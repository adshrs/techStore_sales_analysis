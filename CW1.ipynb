{
 "cells": [
  {
   "cell_type": "code",
   "execution_count": 1,
   "id": "1e6bd2b1-8cbd-453f-a3f3-39fc50f4f299",
   "metadata": {},
   "outputs": [],
   "source": [
    "import os  #importing os library\n",
    "import pandas as pd  #importing pandas library\n",
    "import numpy as np  #importing numpy library\n",
    "import matplotlib.pyplot as plt  #importing matplotlib library \n",
    "\n",
    "%matplotlib inline"
   ]
  },
  {
   "cell_type": "markdown",
   "id": "cb43aad2-d055-4ecf-8f5b-253f697ac295",
   "metadata": {},
   "source": [
    "# Data Preparation"
   ]
  },
  {
   "cell_type": "markdown",
   "id": "07e0285c-dcd9-4391-829c-94ddf593c0ce",
   "metadata": {},
   "source": [
    "## 1. Merging data from each month into one CSV and reading in updated dataframe"
   ]
  },
  {
   "cell_type": "code",
   "execution_count": 2,
   "id": "208ed461-18fe-4341-bc5b-18cb153d69e0",
   "metadata": {},
   "outputs": [],
   "source": [
    "os.chdir('D:\\Islington\\Coursework\\Year 2\\Smart Data Discovery\\CW1\\Sales Analysis\\CSV')  \n",
    "#changing to the directory that contains .csv files"
   ]
  },
  {
   "cell_type": "code",
   "execution_count": 3,
   "id": "922d777f-8116-407f-8b68-09fbb5c27199",
   "metadata": {},
   "outputs": [
    {
     "data": {
      "text/plain": [
       "'D:\\\\Islington\\\\Coursework\\\\Year 2\\\\Smart Data Discovery\\\\CW1\\\\Sales Analysis\\\\CSV'"
      ]
     },
     "execution_count": 3,
     "metadata": {},
     "output_type": "execute_result"
    }
   ],
   "source": [
    "os.getcwd()  #checking if the current directory has changed"
   ]
  },
  {
   "cell_type": "code",
   "execution_count": 4,
   "id": "a7d80264-62f6-4196-9e5a-4f4d9d651478",
   "metadata": {
    "tags": []
   },
   "outputs": [],
   "source": [
    "df = pd.DataFrame()  #defining an empty dataframe \n",
    "\n",
    "# Merging data from each .csv file into one\n",
    "for each in os.listdir():\n",
    "    if each.endswith('.csv'):\n",
    "        A = pd.read_csv(each)\n",
    "        df = df.append(A)"
   ]
  },
  {
   "cell_type": "code",
   "execution_count": 5,
   "id": "59e7a8d8-e6c3-43f0-9278-ad0a4e1f9c34",
   "metadata": {},
   "outputs": [
    {
     "data": {
      "text/html": [
       "<div>\n",
       "<style scoped>\n",
       "    .dataframe tbody tr th:only-of-type {\n",
       "        vertical-align: middle;\n",
       "    }\n",
       "\n",
       "    .dataframe tbody tr th {\n",
       "        vertical-align: top;\n",
       "    }\n",
       "\n",
       "    .dataframe thead th {\n",
       "        text-align: right;\n",
       "    }\n",
       "</style>\n",
       "<table border=\"1\" class=\"dataframe\">\n",
       "  <thead>\n",
       "    <tr style=\"text-align: right;\">\n",
       "      <th></th>\n",
       "      <th>Order ID</th>\n",
       "      <th>Product</th>\n",
       "      <th>Quantity Ordered</th>\n",
       "      <th>Price Each</th>\n",
       "      <th>Order Date</th>\n",
       "      <th>Purchase Address</th>\n",
       "    </tr>\n",
       "  </thead>\n",
       "  <tbody>\n",
       "    <tr>\n",
       "      <th>0</th>\n",
       "      <td>176558.0</td>\n",
       "      <td>USB-C Charging Cable</td>\n",
       "      <td>2.0</td>\n",
       "      <td>11.95</td>\n",
       "      <td>4/19/2019 8:46</td>\n",
       "      <td>917 1st St, Dallas, TX 75001</td>\n",
       "    </tr>\n",
       "    <tr>\n",
       "      <th>1</th>\n",
       "      <td>NaN</td>\n",
       "      <td>NaN</td>\n",
       "      <td>NaN</td>\n",
       "      <td>NaN</td>\n",
       "      <td>NaN</td>\n",
       "      <td>NaN</td>\n",
       "    </tr>\n",
       "    <tr>\n",
       "      <th>2</th>\n",
       "      <td>176559.0</td>\n",
       "      <td>Bose SoundSport Headphones</td>\n",
       "      <td>1.0</td>\n",
       "      <td>99.99</td>\n",
       "      <td>4/7/2019 22:30</td>\n",
       "      <td>682 Chestnut St, Boston, MA 02215</td>\n",
       "    </tr>\n",
       "    <tr>\n",
       "      <th>3</th>\n",
       "      <td>176560.0</td>\n",
       "      <td>Google Phone</td>\n",
       "      <td>1.0</td>\n",
       "      <td>600.00</td>\n",
       "      <td>4/12/2019 14:38</td>\n",
       "      <td>669 Spruce St, Los Angeles, CA 90001</td>\n",
       "    </tr>\n",
       "    <tr>\n",
       "      <th>4</th>\n",
       "      <td>176560.0</td>\n",
       "      <td>Wired Headphones</td>\n",
       "      <td>1.0</td>\n",
       "      <td>11.99</td>\n",
       "      <td>4/12/2019 14:38</td>\n",
       "      <td>669 Spruce St, Los Angeles, CA 90001</td>\n",
       "    </tr>\n",
       "    <tr>\n",
       "      <th>...</th>\n",
       "      <td>...</td>\n",
       "      <td>...</td>\n",
       "      <td>...</td>\n",
       "      <td>...</td>\n",
       "      <td>...</td>\n",
       "      <td>...</td>\n",
       "    </tr>\n",
       "    <tr>\n",
       "      <th>11681</th>\n",
       "      <td>259353.0</td>\n",
       "      <td>AAA Batteries (4-pack)</td>\n",
       "      <td>3.0</td>\n",
       "      <td>2.99</td>\n",
       "      <td>9/17/2019 20:56</td>\n",
       "      <td>840 Highland St, Los Angeles, CA 90001</td>\n",
       "    </tr>\n",
       "    <tr>\n",
       "      <th>11682</th>\n",
       "      <td>259354.0</td>\n",
       "      <td>iPhone</td>\n",
       "      <td>1.0</td>\n",
       "      <td>700.00</td>\n",
       "      <td>9/1/2019 16:00</td>\n",
       "      <td>216 Dogwood St, San Francisco, CA 94016</td>\n",
       "    </tr>\n",
       "    <tr>\n",
       "      <th>11683</th>\n",
       "      <td>259355.0</td>\n",
       "      <td>iPhone</td>\n",
       "      <td>1.0</td>\n",
       "      <td>700.00</td>\n",
       "      <td>9/23/2019 7:39</td>\n",
       "      <td>220 12th St, San Francisco, CA 94016</td>\n",
       "    </tr>\n",
       "    <tr>\n",
       "      <th>11684</th>\n",
       "      <td>259356.0</td>\n",
       "      <td>34in Ultrawide Monitor</td>\n",
       "      <td>1.0</td>\n",
       "      <td>379.99</td>\n",
       "      <td>9/19/2019 17:30</td>\n",
       "      <td>511 Forest St, San Francisco, CA 94016</td>\n",
       "    </tr>\n",
       "    <tr>\n",
       "      <th>11685</th>\n",
       "      <td>259357.0</td>\n",
       "      <td>USB-C Charging Cable</td>\n",
       "      <td>1.0</td>\n",
       "      <td>11.95</td>\n",
       "      <td>9/30/2019 0:18</td>\n",
       "      <td>250 Meadow St, San Francisco, CA 94016</td>\n",
       "    </tr>\n",
       "  </tbody>\n",
       "</table>\n",
       "<p>186850 rows × 6 columns</p>\n",
       "</div>"
      ],
      "text/plain": [
       "       Order ID                     Product  Quantity Ordered  Price Each  \\\n",
       "0      176558.0        USB-C Charging Cable               2.0       11.95   \n",
       "1           NaN                         NaN               NaN         NaN   \n",
       "2      176559.0  Bose SoundSport Headphones               1.0       99.99   \n",
       "3      176560.0                Google Phone               1.0      600.00   \n",
       "4      176560.0            Wired Headphones               1.0       11.99   \n",
       "...         ...                         ...               ...         ...   \n",
       "11681  259353.0      AAA Batteries (4-pack)               3.0        2.99   \n",
       "11682  259354.0                      iPhone               1.0      700.00   \n",
       "11683  259355.0                      iPhone               1.0      700.00   \n",
       "11684  259356.0      34in Ultrawide Monitor               1.0      379.99   \n",
       "11685  259357.0        USB-C Charging Cable               1.0       11.95   \n",
       "\n",
       "            Order Date                         Purchase Address  \n",
       "0       4/19/2019 8:46             917 1st St, Dallas, TX 75001  \n",
       "1                  NaN                                      NaN  \n",
       "2       4/7/2019 22:30        682 Chestnut St, Boston, MA 02215  \n",
       "3      4/12/2019 14:38     669 Spruce St, Los Angeles, CA 90001  \n",
       "4      4/12/2019 14:38     669 Spruce St, Los Angeles, CA 90001  \n",
       "...                ...                                      ...  \n",
       "11681  9/17/2019 20:56   840 Highland St, Los Angeles, CA 90001  \n",
       "11682   9/1/2019 16:00  216 Dogwood St, San Francisco, CA 94016  \n",
       "11683   9/23/2019 7:39     220 12th St, San Francisco, CA 94016  \n",
       "11684  9/19/2019 17:30   511 Forest St, San Francisco, CA 94016  \n",
       "11685   9/30/2019 0:18   250 Meadow St, San Francisco, CA 94016  \n",
       "\n",
       "[186850 rows x 6 columns]"
      ]
     },
     "execution_count": 5,
     "metadata": {},
     "output_type": "execute_result"
    }
   ],
   "source": [
    "df"
   ]
  },
  {
   "cell_type": "markdown",
   "id": "fb73af45-37a3-4423-a9bd-400d25a31c54",
   "metadata": {},
   "source": [
    "#"
   ]
  },
  {
   "cell_type": "markdown",
   "id": "7de3514b-67c6-4739-801a-58f3e5c7c6a5",
   "metadata": {},
   "source": [
    "## 2. Removing the NaN missing values from the updated dataframe"
   ]
  },
  {
   "cell_type": "code",
   "execution_count": 6,
   "id": "14fc5b90-0a03-4eb2-879f-c208c3a76ea4",
   "metadata": {
    "tags": []
   },
   "outputs": [],
   "source": [
    "df.dropna(inplace = True)  #removing all the NaN missing values from the updated dataframe"
   ]
  },
  {
   "cell_type": "code",
   "execution_count": 7,
   "id": "3deb971b-1c2b-4154-b725-98713d2b2544",
   "metadata": {},
   "outputs": [
    {
     "data": {
      "text/html": [
       "<div>\n",
       "<style scoped>\n",
       "    .dataframe tbody tr th:only-of-type {\n",
       "        vertical-align: middle;\n",
       "    }\n",
       "\n",
       "    .dataframe tbody tr th {\n",
       "        vertical-align: top;\n",
       "    }\n",
       "\n",
       "    .dataframe thead th {\n",
       "        text-align: right;\n",
       "    }\n",
       "</style>\n",
       "<table border=\"1\" class=\"dataframe\">\n",
       "  <thead>\n",
       "    <tr style=\"text-align: right;\">\n",
       "      <th></th>\n",
       "      <th>Order ID</th>\n",
       "      <th>Product</th>\n",
       "      <th>Quantity Ordered</th>\n",
       "      <th>Price Each</th>\n",
       "      <th>Order Date</th>\n",
       "      <th>Purchase Address</th>\n",
       "    </tr>\n",
       "  </thead>\n",
       "  <tbody>\n",
       "    <tr>\n",
       "      <th>0</th>\n",
       "      <td>176558.0</td>\n",
       "      <td>USB-C Charging Cable</td>\n",
       "      <td>2.0</td>\n",
       "      <td>11.95</td>\n",
       "      <td>4/19/2019 8:46</td>\n",
       "      <td>917 1st St, Dallas, TX 75001</td>\n",
       "    </tr>\n",
       "    <tr>\n",
       "      <th>2</th>\n",
       "      <td>176559.0</td>\n",
       "      <td>Bose SoundSport Headphones</td>\n",
       "      <td>1.0</td>\n",
       "      <td>99.99</td>\n",
       "      <td>4/7/2019 22:30</td>\n",
       "      <td>682 Chestnut St, Boston, MA 02215</td>\n",
       "    </tr>\n",
       "    <tr>\n",
       "      <th>3</th>\n",
       "      <td>176560.0</td>\n",
       "      <td>Google Phone</td>\n",
       "      <td>1.0</td>\n",
       "      <td>600.00</td>\n",
       "      <td>4/12/2019 14:38</td>\n",
       "      <td>669 Spruce St, Los Angeles, CA 90001</td>\n",
       "    </tr>\n",
       "    <tr>\n",
       "      <th>4</th>\n",
       "      <td>176560.0</td>\n",
       "      <td>Wired Headphones</td>\n",
       "      <td>1.0</td>\n",
       "      <td>11.99</td>\n",
       "      <td>4/12/2019 14:38</td>\n",
       "      <td>669 Spruce St, Los Angeles, CA 90001</td>\n",
       "    </tr>\n",
       "    <tr>\n",
       "      <th>5</th>\n",
       "      <td>176561.0</td>\n",
       "      <td>Wired Headphones</td>\n",
       "      <td>1.0</td>\n",
       "      <td>11.99</td>\n",
       "      <td>4/30/2019 9:27</td>\n",
       "      <td>333 8th St, Los Angeles, CA 90001</td>\n",
       "    </tr>\n",
       "    <tr>\n",
       "      <th>...</th>\n",
       "      <td>...</td>\n",
       "      <td>...</td>\n",
       "      <td>...</td>\n",
       "      <td>...</td>\n",
       "      <td>...</td>\n",
       "      <td>...</td>\n",
       "    </tr>\n",
       "    <tr>\n",
       "      <th>11681</th>\n",
       "      <td>259353.0</td>\n",
       "      <td>AAA Batteries (4-pack)</td>\n",
       "      <td>3.0</td>\n",
       "      <td>2.99</td>\n",
       "      <td>9/17/2019 20:56</td>\n",
       "      <td>840 Highland St, Los Angeles, CA 90001</td>\n",
       "    </tr>\n",
       "    <tr>\n",
       "      <th>11682</th>\n",
       "      <td>259354.0</td>\n",
       "      <td>iPhone</td>\n",
       "      <td>1.0</td>\n",
       "      <td>700.00</td>\n",
       "      <td>9/1/2019 16:00</td>\n",
       "      <td>216 Dogwood St, San Francisco, CA 94016</td>\n",
       "    </tr>\n",
       "    <tr>\n",
       "      <th>11683</th>\n",
       "      <td>259355.0</td>\n",
       "      <td>iPhone</td>\n",
       "      <td>1.0</td>\n",
       "      <td>700.00</td>\n",
       "      <td>9/23/2019 7:39</td>\n",
       "      <td>220 12th St, San Francisco, CA 94016</td>\n",
       "    </tr>\n",
       "    <tr>\n",
       "      <th>11684</th>\n",
       "      <td>259356.0</td>\n",
       "      <td>34in Ultrawide Monitor</td>\n",
       "      <td>1.0</td>\n",
       "      <td>379.99</td>\n",
       "      <td>9/19/2019 17:30</td>\n",
       "      <td>511 Forest St, San Francisco, CA 94016</td>\n",
       "    </tr>\n",
       "    <tr>\n",
       "      <th>11685</th>\n",
       "      <td>259357.0</td>\n",
       "      <td>USB-C Charging Cable</td>\n",
       "      <td>1.0</td>\n",
       "      <td>11.95</td>\n",
       "      <td>9/30/2019 0:18</td>\n",
       "      <td>250 Meadow St, San Francisco, CA 94016</td>\n",
       "    </tr>\n",
       "  </tbody>\n",
       "</table>\n",
       "<p>185950 rows × 6 columns</p>\n",
       "</div>"
      ],
      "text/plain": [
       "       Order ID                     Product  Quantity Ordered  Price Each  \\\n",
       "0      176558.0        USB-C Charging Cable               2.0       11.95   \n",
       "2      176559.0  Bose SoundSport Headphones               1.0       99.99   \n",
       "3      176560.0                Google Phone               1.0      600.00   \n",
       "4      176560.0            Wired Headphones               1.0       11.99   \n",
       "5      176561.0            Wired Headphones               1.0       11.99   \n",
       "...         ...                         ...               ...         ...   \n",
       "11681  259353.0      AAA Batteries (4-pack)               3.0        2.99   \n",
       "11682  259354.0                      iPhone               1.0      700.00   \n",
       "11683  259355.0                      iPhone               1.0      700.00   \n",
       "11684  259356.0      34in Ultrawide Monitor               1.0      379.99   \n",
       "11685  259357.0        USB-C Charging Cable               1.0       11.95   \n",
       "\n",
       "            Order Date                         Purchase Address  \n",
       "0       4/19/2019 8:46             917 1st St, Dallas, TX 75001  \n",
       "2       4/7/2019 22:30        682 Chestnut St, Boston, MA 02215  \n",
       "3      4/12/2019 14:38     669 Spruce St, Los Angeles, CA 90001  \n",
       "4      4/12/2019 14:38     669 Spruce St, Los Angeles, CA 90001  \n",
       "5       4/30/2019 9:27        333 8th St, Los Angeles, CA 90001  \n",
       "...                ...                                      ...  \n",
       "11681  9/17/2019 20:56   840 Highland St, Los Angeles, CA 90001  \n",
       "11682   9/1/2019 16:00  216 Dogwood St, San Francisco, CA 94016  \n",
       "11683   9/23/2019 7:39     220 12th St, San Francisco, CA 94016  \n",
       "11684  9/19/2019 17:30   511 Forest St, San Francisco, CA 94016  \n",
       "11685   9/30/2019 0:18   250 Meadow St, San Francisco, CA 94016  \n",
       "\n",
       "[185950 rows x 6 columns]"
      ]
     },
     "execution_count": 7,
     "metadata": {},
     "output_type": "execute_result"
    }
   ],
   "source": [
    "df"
   ]
  },
  {
   "cell_type": "markdown",
   "id": "4f1d755f-1890-4b87-85a8-cb47cc8d9799",
   "metadata": {},
   "source": [
    "#"
   ]
  },
  {
   "cell_type": "markdown",
   "id": "a168be5b-9d99-4d81-a742-b101934e442a",
   "metadata": {},
   "source": [
    "## 3. Converting Quantity Ordered and Price Each to numeric"
   ]
  },
  {
   "cell_type": "code",
   "execution_count": 8,
   "id": "b2184d0b-fadb-4018-a829-6b2afc11ef0d",
   "metadata": {},
   "outputs": [],
   "source": [
    "df['Quantity Ordered'] = pd.to_numeric(df['Quantity Ordered'])  #Converting Quantity Ordered column to numeric datatype\n",
    "df['Price Each'] = pd.to_numeric(df['Price Each'])  #converting Price Each column to numeric datatype"
   ]
  },
  {
   "cell_type": "code",
   "execution_count": 9,
   "id": "b071d387-594f-40ba-b6a7-6fb9a743e7e9",
   "metadata": {},
   "outputs": [
    {
     "data": {
      "text/plain": [
       "Order ID            float64\n",
       "Product              object\n",
       "Quantity Ordered    float64\n",
       "Price Each          float64\n",
       "Order Date           object\n",
       "Purchase Address     object\n",
       "dtype: object"
      ]
     },
     "execution_count": 9,
     "metadata": {},
     "output_type": "execute_result"
    }
   ],
   "source": [
    "df.dtypes  #displaying the datatype of each column"
   ]
  },
  {
   "cell_type": "markdown",
   "id": "a582f5da-b282-4a85-b115-feaa29cd2ce5",
   "metadata": {},
   "source": [
    "#"
   ]
  },
  {
   "cell_type": "markdown",
   "id": "92efcadf-def5-4304-8f7b-fa852f1a9c34",
   "metadata": {},
   "source": [
    "## 4. Creating a new column named Month from Ordered Date of updated dataframe and converting it to integer as data type "
   ]
  },
  {
   "cell_type": "code",
   "execution_count": 10,
   "id": "3d0d4e5a-a4a9-45ae-b8c0-29ce6338aff7",
   "metadata": {},
   "outputs": [],
   "source": [
    "df['Order Date'] = pd.to_datetime(df['Order Date'])  #converting Ordered Date column to datetime format"
   ]
  },
  {
   "cell_type": "code",
   "execution_count": 11,
   "id": "b6138233-e915-4aa9-837a-42cac4d02e2a",
   "metadata": {},
   "outputs": [],
   "source": [
    "df['Month'] = df['Order Date'].dt.month_name()  ##creating new column named Month from only the month name of Ordered date "
   ]
  },
  {
   "cell_type": "code",
   "execution_count": 12,
   "id": "c81ffe16-b898-47a1-ae93-4dbfcb8c161f",
   "metadata": {},
   "outputs": [],
   "source": [
    "df[\"Month\"] = df[\"Order Date\"].dt.month.astype(int)  #converting the datatype of Month column to integer"
   ]
  },
  {
   "cell_type": "code",
   "execution_count": 13,
   "id": "7deba032-a3f5-497e-a947-ce3799f6c886",
   "metadata": {},
   "outputs": [
    {
     "data": {
      "text/html": [
       "<div>\n",
       "<style scoped>\n",
       "    .dataframe tbody tr th:only-of-type {\n",
       "        vertical-align: middle;\n",
       "    }\n",
       "\n",
       "    .dataframe tbody tr th {\n",
       "        vertical-align: top;\n",
       "    }\n",
       "\n",
       "    .dataframe thead th {\n",
       "        text-align: right;\n",
       "    }\n",
       "</style>\n",
       "<table border=\"1\" class=\"dataframe\">\n",
       "  <thead>\n",
       "    <tr style=\"text-align: right;\">\n",
       "      <th></th>\n",
       "      <th>Order ID</th>\n",
       "      <th>Product</th>\n",
       "      <th>Quantity Ordered</th>\n",
       "      <th>Price Each</th>\n",
       "      <th>Order Date</th>\n",
       "      <th>Purchase Address</th>\n",
       "      <th>Month</th>\n",
       "    </tr>\n",
       "  </thead>\n",
       "  <tbody>\n",
       "    <tr>\n",
       "      <th>0</th>\n",
       "      <td>176558.0</td>\n",
       "      <td>USB-C Charging Cable</td>\n",
       "      <td>2.0</td>\n",
       "      <td>11.95</td>\n",
       "      <td>2019-04-19 08:46:00</td>\n",
       "      <td>917 1st St, Dallas, TX 75001</td>\n",
       "      <td>4</td>\n",
       "    </tr>\n",
       "    <tr>\n",
       "      <th>2</th>\n",
       "      <td>176559.0</td>\n",
       "      <td>Bose SoundSport Headphones</td>\n",
       "      <td>1.0</td>\n",
       "      <td>99.99</td>\n",
       "      <td>2019-04-07 22:30:00</td>\n",
       "      <td>682 Chestnut St, Boston, MA 02215</td>\n",
       "      <td>4</td>\n",
       "    </tr>\n",
       "    <tr>\n",
       "      <th>3</th>\n",
       "      <td>176560.0</td>\n",
       "      <td>Google Phone</td>\n",
       "      <td>1.0</td>\n",
       "      <td>600.00</td>\n",
       "      <td>2019-04-12 14:38:00</td>\n",
       "      <td>669 Spruce St, Los Angeles, CA 90001</td>\n",
       "      <td>4</td>\n",
       "    </tr>\n",
       "    <tr>\n",
       "      <th>4</th>\n",
       "      <td>176560.0</td>\n",
       "      <td>Wired Headphones</td>\n",
       "      <td>1.0</td>\n",
       "      <td>11.99</td>\n",
       "      <td>2019-04-12 14:38:00</td>\n",
       "      <td>669 Spruce St, Los Angeles, CA 90001</td>\n",
       "      <td>4</td>\n",
       "    </tr>\n",
       "    <tr>\n",
       "      <th>5</th>\n",
       "      <td>176561.0</td>\n",
       "      <td>Wired Headphones</td>\n",
       "      <td>1.0</td>\n",
       "      <td>11.99</td>\n",
       "      <td>2019-04-30 09:27:00</td>\n",
       "      <td>333 8th St, Los Angeles, CA 90001</td>\n",
       "      <td>4</td>\n",
       "    </tr>\n",
       "    <tr>\n",
       "      <th>...</th>\n",
       "      <td>...</td>\n",
       "      <td>...</td>\n",
       "      <td>...</td>\n",
       "      <td>...</td>\n",
       "      <td>...</td>\n",
       "      <td>...</td>\n",
       "      <td>...</td>\n",
       "    </tr>\n",
       "    <tr>\n",
       "      <th>11681</th>\n",
       "      <td>259353.0</td>\n",
       "      <td>AAA Batteries (4-pack)</td>\n",
       "      <td>3.0</td>\n",
       "      <td>2.99</td>\n",
       "      <td>2019-09-17 20:56:00</td>\n",
       "      <td>840 Highland St, Los Angeles, CA 90001</td>\n",
       "      <td>9</td>\n",
       "    </tr>\n",
       "    <tr>\n",
       "      <th>11682</th>\n",
       "      <td>259354.0</td>\n",
       "      <td>iPhone</td>\n",
       "      <td>1.0</td>\n",
       "      <td>700.00</td>\n",
       "      <td>2019-09-01 16:00:00</td>\n",
       "      <td>216 Dogwood St, San Francisco, CA 94016</td>\n",
       "      <td>9</td>\n",
       "    </tr>\n",
       "    <tr>\n",
       "      <th>11683</th>\n",
       "      <td>259355.0</td>\n",
       "      <td>iPhone</td>\n",
       "      <td>1.0</td>\n",
       "      <td>700.00</td>\n",
       "      <td>2019-09-23 07:39:00</td>\n",
       "      <td>220 12th St, San Francisco, CA 94016</td>\n",
       "      <td>9</td>\n",
       "    </tr>\n",
       "    <tr>\n",
       "      <th>11684</th>\n",
       "      <td>259356.0</td>\n",
       "      <td>34in Ultrawide Monitor</td>\n",
       "      <td>1.0</td>\n",
       "      <td>379.99</td>\n",
       "      <td>2019-09-19 17:30:00</td>\n",
       "      <td>511 Forest St, San Francisco, CA 94016</td>\n",
       "      <td>9</td>\n",
       "    </tr>\n",
       "    <tr>\n",
       "      <th>11685</th>\n",
       "      <td>259357.0</td>\n",
       "      <td>USB-C Charging Cable</td>\n",
       "      <td>1.0</td>\n",
       "      <td>11.95</td>\n",
       "      <td>2019-09-30 00:18:00</td>\n",
       "      <td>250 Meadow St, San Francisco, CA 94016</td>\n",
       "      <td>9</td>\n",
       "    </tr>\n",
       "  </tbody>\n",
       "</table>\n",
       "<p>185950 rows × 7 columns</p>\n",
       "</div>"
      ],
      "text/plain": [
       "       Order ID                     Product  Quantity Ordered  Price Each  \\\n",
       "0      176558.0        USB-C Charging Cable               2.0       11.95   \n",
       "2      176559.0  Bose SoundSport Headphones               1.0       99.99   \n",
       "3      176560.0                Google Phone               1.0      600.00   \n",
       "4      176560.0            Wired Headphones               1.0       11.99   \n",
       "5      176561.0            Wired Headphones               1.0       11.99   \n",
       "...         ...                         ...               ...         ...   \n",
       "11681  259353.0      AAA Batteries (4-pack)               3.0        2.99   \n",
       "11682  259354.0                      iPhone               1.0      700.00   \n",
       "11683  259355.0                      iPhone               1.0      700.00   \n",
       "11684  259356.0      34in Ultrawide Monitor               1.0      379.99   \n",
       "11685  259357.0        USB-C Charging Cable               1.0       11.95   \n",
       "\n",
       "               Order Date                         Purchase Address  Month  \n",
       "0     2019-04-19 08:46:00             917 1st St, Dallas, TX 75001      4  \n",
       "2     2019-04-07 22:30:00        682 Chestnut St, Boston, MA 02215      4  \n",
       "3     2019-04-12 14:38:00     669 Spruce St, Los Angeles, CA 90001      4  \n",
       "4     2019-04-12 14:38:00     669 Spruce St, Los Angeles, CA 90001      4  \n",
       "5     2019-04-30 09:27:00        333 8th St, Los Angeles, CA 90001      4  \n",
       "...                   ...                                      ...    ...  \n",
       "11681 2019-09-17 20:56:00   840 Highland St, Los Angeles, CA 90001      9  \n",
       "11682 2019-09-01 16:00:00  216 Dogwood St, San Francisco, CA 94016      9  \n",
       "11683 2019-09-23 07:39:00     220 12th St, San Francisco, CA 94016      9  \n",
       "11684 2019-09-19 17:30:00   511 Forest St, San Francisco, CA 94016      9  \n",
       "11685 2019-09-30 00:18:00   250 Meadow St, San Francisco, CA 94016      9  \n",
       "\n",
       "[185950 rows x 7 columns]"
      ]
     },
     "execution_count": 13,
     "metadata": {},
     "output_type": "execute_result"
    }
   ],
   "source": [
    "df"
   ]
  },
  {
   "cell_type": "markdown",
   "id": "4a1388ac-2afa-4f19-8e32-293da97c9116",
   "metadata": {},
   "source": [
    "#"
   ]
  },
  {
   "cell_type": "markdown",
   "id": "0304fd2f-396b-42e7-8563-1ed28e3c1b67",
   "metadata": {},
   "source": [
    "## 5. Creating a new column named City from Purchase Address based on the value in updated dataframe"
   ]
  },
  {
   "cell_type": "code",
   "execution_count": 14,
   "id": "b54eb079-815d-46d2-b949-e7ab751f6fdf",
   "metadata": {},
   "outputs": [],
   "source": [
    "df['City'] = df['Purchase Address'].apply(lambda x: x.split(',')[1])"
   ]
  },
  {
   "cell_type": "code",
   "execution_count": 15,
   "id": "8354f7a8-857a-46fe-a114-450675e8b6e6",
   "metadata": {
    "tags": []
   },
   "outputs": [
    {
     "data": {
      "text/html": [
       "<div>\n",
       "<style scoped>\n",
       "    .dataframe tbody tr th:only-of-type {\n",
       "        vertical-align: middle;\n",
       "    }\n",
       "\n",
       "    .dataframe tbody tr th {\n",
       "        vertical-align: top;\n",
       "    }\n",
       "\n",
       "    .dataframe thead th {\n",
       "        text-align: right;\n",
       "    }\n",
       "</style>\n",
       "<table border=\"1\" class=\"dataframe\">\n",
       "  <thead>\n",
       "    <tr style=\"text-align: right;\">\n",
       "      <th></th>\n",
       "      <th>Order ID</th>\n",
       "      <th>Product</th>\n",
       "      <th>Quantity Ordered</th>\n",
       "      <th>Price Each</th>\n",
       "      <th>Order Date</th>\n",
       "      <th>Purchase Address</th>\n",
       "      <th>Month</th>\n",
       "      <th>City</th>\n",
       "    </tr>\n",
       "  </thead>\n",
       "  <tbody>\n",
       "    <tr>\n",
       "      <th>0</th>\n",
       "      <td>176558.0</td>\n",
       "      <td>USB-C Charging Cable</td>\n",
       "      <td>2.0</td>\n",
       "      <td>11.95</td>\n",
       "      <td>2019-04-19 08:46:00</td>\n",
       "      <td>917 1st St, Dallas, TX 75001</td>\n",
       "      <td>4</td>\n",
       "      <td>Dallas</td>\n",
       "    </tr>\n",
       "    <tr>\n",
       "      <th>2</th>\n",
       "      <td>176559.0</td>\n",
       "      <td>Bose SoundSport Headphones</td>\n",
       "      <td>1.0</td>\n",
       "      <td>99.99</td>\n",
       "      <td>2019-04-07 22:30:00</td>\n",
       "      <td>682 Chestnut St, Boston, MA 02215</td>\n",
       "      <td>4</td>\n",
       "      <td>Boston</td>\n",
       "    </tr>\n",
       "    <tr>\n",
       "      <th>3</th>\n",
       "      <td>176560.0</td>\n",
       "      <td>Google Phone</td>\n",
       "      <td>1.0</td>\n",
       "      <td>600.00</td>\n",
       "      <td>2019-04-12 14:38:00</td>\n",
       "      <td>669 Spruce St, Los Angeles, CA 90001</td>\n",
       "      <td>4</td>\n",
       "      <td>Los Angeles</td>\n",
       "    </tr>\n",
       "    <tr>\n",
       "      <th>4</th>\n",
       "      <td>176560.0</td>\n",
       "      <td>Wired Headphones</td>\n",
       "      <td>1.0</td>\n",
       "      <td>11.99</td>\n",
       "      <td>2019-04-12 14:38:00</td>\n",
       "      <td>669 Spruce St, Los Angeles, CA 90001</td>\n",
       "      <td>4</td>\n",
       "      <td>Los Angeles</td>\n",
       "    </tr>\n",
       "    <tr>\n",
       "      <th>5</th>\n",
       "      <td>176561.0</td>\n",
       "      <td>Wired Headphones</td>\n",
       "      <td>1.0</td>\n",
       "      <td>11.99</td>\n",
       "      <td>2019-04-30 09:27:00</td>\n",
       "      <td>333 8th St, Los Angeles, CA 90001</td>\n",
       "      <td>4</td>\n",
       "      <td>Los Angeles</td>\n",
       "    </tr>\n",
       "    <tr>\n",
       "      <th>...</th>\n",
       "      <td>...</td>\n",
       "      <td>...</td>\n",
       "      <td>...</td>\n",
       "      <td>...</td>\n",
       "      <td>...</td>\n",
       "      <td>...</td>\n",
       "      <td>...</td>\n",
       "      <td>...</td>\n",
       "    </tr>\n",
       "    <tr>\n",
       "      <th>11681</th>\n",
       "      <td>259353.0</td>\n",
       "      <td>AAA Batteries (4-pack)</td>\n",
       "      <td>3.0</td>\n",
       "      <td>2.99</td>\n",
       "      <td>2019-09-17 20:56:00</td>\n",
       "      <td>840 Highland St, Los Angeles, CA 90001</td>\n",
       "      <td>9</td>\n",
       "      <td>Los Angeles</td>\n",
       "    </tr>\n",
       "    <tr>\n",
       "      <th>11682</th>\n",
       "      <td>259354.0</td>\n",
       "      <td>iPhone</td>\n",
       "      <td>1.0</td>\n",
       "      <td>700.00</td>\n",
       "      <td>2019-09-01 16:00:00</td>\n",
       "      <td>216 Dogwood St, San Francisco, CA 94016</td>\n",
       "      <td>9</td>\n",
       "      <td>San Francisco</td>\n",
       "    </tr>\n",
       "    <tr>\n",
       "      <th>11683</th>\n",
       "      <td>259355.0</td>\n",
       "      <td>iPhone</td>\n",
       "      <td>1.0</td>\n",
       "      <td>700.00</td>\n",
       "      <td>2019-09-23 07:39:00</td>\n",
       "      <td>220 12th St, San Francisco, CA 94016</td>\n",
       "      <td>9</td>\n",
       "      <td>San Francisco</td>\n",
       "    </tr>\n",
       "    <tr>\n",
       "      <th>11684</th>\n",
       "      <td>259356.0</td>\n",
       "      <td>34in Ultrawide Monitor</td>\n",
       "      <td>1.0</td>\n",
       "      <td>379.99</td>\n",
       "      <td>2019-09-19 17:30:00</td>\n",
       "      <td>511 Forest St, San Francisco, CA 94016</td>\n",
       "      <td>9</td>\n",
       "      <td>San Francisco</td>\n",
       "    </tr>\n",
       "    <tr>\n",
       "      <th>11685</th>\n",
       "      <td>259357.0</td>\n",
       "      <td>USB-C Charging Cable</td>\n",
       "      <td>1.0</td>\n",
       "      <td>11.95</td>\n",
       "      <td>2019-09-30 00:18:00</td>\n",
       "      <td>250 Meadow St, San Francisco, CA 94016</td>\n",
       "      <td>9</td>\n",
       "      <td>San Francisco</td>\n",
       "    </tr>\n",
       "  </tbody>\n",
       "</table>\n",
       "<p>185950 rows × 8 columns</p>\n",
       "</div>"
      ],
      "text/plain": [
       "       Order ID                     Product  Quantity Ordered  Price Each  \\\n",
       "0      176558.0        USB-C Charging Cable               2.0       11.95   \n",
       "2      176559.0  Bose SoundSport Headphones               1.0       99.99   \n",
       "3      176560.0                Google Phone               1.0      600.00   \n",
       "4      176560.0            Wired Headphones               1.0       11.99   \n",
       "5      176561.0            Wired Headphones               1.0       11.99   \n",
       "...         ...                         ...               ...         ...   \n",
       "11681  259353.0      AAA Batteries (4-pack)               3.0        2.99   \n",
       "11682  259354.0                      iPhone               1.0      700.00   \n",
       "11683  259355.0                      iPhone               1.0      700.00   \n",
       "11684  259356.0      34in Ultrawide Monitor               1.0      379.99   \n",
       "11685  259357.0        USB-C Charging Cable               1.0       11.95   \n",
       "\n",
       "               Order Date                         Purchase Address  Month  \\\n",
       "0     2019-04-19 08:46:00             917 1st St, Dallas, TX 75001      4   \n",
       "2     2019-04-07 22:30:00        682 Chestnut St, Boston, MA 02215      4   \n",
       "3     2019-04-12 14:38:00     669 Spruce St, Los Angeles, CA 90001      4   \n",
       "4     2019-04-12 14:38:00     669 Spruce St, Los Angeles, CA 90001      4   \n",
       "5     2019-04-30 09:27:00        333 8th St, Los Angeles, CA 90001      4   \n",
       "...                   ...                                      ...    ...   \n",
       "11681 2019-09-17 20:56:00   840 Highland St, Los Angeles, CA 90001      9   \n",
       "11682 2019-09-01 16:00:00  216 Dogwood St, San Francisco, CA 94016      9   \n",
       "11683 2019-09-23 07:39:00     220 12th St, San Francisco, CA 94016      9   \n",
       "11684 2019-09-19 17:30:00   511 Forest St, San Francisco, CA 94016      9   \n",
       "11685 2019-09-30 00:18:00   250 Meadow St, San Francisco, CA 94016      9   \n",
       "\n",
       "                 City  \n",
       "0              Dallas  \n",
       "2              Boston  \n",
       "3         Los Angeles  \n",
       "4         Los Angeles  \n",
       "5         Los Angeles  \n",
       "...               ...  \n",
       "11681     Los Angeles  \n",
       "11682   San Francisco  \n",
       "11683   San Francisco  \n",
       "11684   San Francisco  \n",
       "11685   San Francisco  \n",
       "\n",
       "[185950 rows x 8 columns]"
      ]
     },
     "execution_count": 15,
     "metadata": {},
     "output_type": "execute_result"
    }
   ],
   "source": [
    "df"
   ]
  },
  {
   "cell_type": "markdown",
   "id": "54ca789d-c173-415f-8944-add1c01d3491",
   "metadata": {},
   "source": [
    "#"
   ]
  },
  {
   "cell_type": "markdown",
   "id": "748ef2eb-0bd4-4a94-ab63-7dcfcade130c",
   "metadata": {},
   "source": [
    "# Data Analysis"
   ]
  },
  {
   "cell_type": "markdown",
   "id": "518054e2-4d9c-482a-a88f-49dc876bc637",
   "metadata": {},
   "source": [
    "## 1. Showing summary statistics of sum, mean, standard deviation, skewness, and kurtosis of any chosen variable. "
   ]
  },
  {
   "cell_type": "markdown",
   "id": "119ed18e-06de-429c-a036-dd43bbf67e41",
   "metadata": {},
   "source": [
    "### Sum:"
   ]
  },
  {
   "cell_type": "code",
   "execution_count": 16,
   "id": "42f00d74-c8d1-4f65-af6c-e475576f21d1",
   "metadata": {},
   "outputs": [
    {
     "data": {
      "text/plain": [
       "34289130.67999999"
      ]
     },
     "execution_count": 16,
     "metadata": {},
     "output_type": "execute_result"
    }
   ],
   "source": [
    "df['Price Each'].sum()  #Calculating the sum of 'Price Each' column"
   ]
  },
  {
   "cell_type": "markdown",
   "id": "37a5955f-4c15-41c3-9f7e-96f30ca1557c",
   "metadata": {},
   "source": [
    "### Mean:"
   ]
  },
  {
   "cell_type": "code",
   "execution_count": 17,
   "id": "70b3ca16-1ecf-4b13-b153-8b9eab000f2c",
   "metadata": {},
   "outputs": [
    {
     "data": {
      "text/plain": [
       "184.3997347670135"
      ]
     },
     "execution_count": 17,
     "metadata": {},
     "output_type": "execute_result"
    }
   ],
   "source": [
    "df['Price Each'].mean()  #Calculating the mean of 'Price Each' column"
   ]
  },
  {
   "cell_type": "markdown",
   "id": "cf9dc688-1a5e-4b44-a4a7-83c690a02920",
   "metadata": {},
   "source": [
    "### Standard Deviation:"
   ]
  },
  {
   "cell_type": "code",
   "execution_count": 18,
   "id": "0aea687a-fbcd-4be7-bcac-d12a08a58de9",
   "metadata": {},
   "outputs": [
    {
     "data": {
      "text/plain": [
       "332.7313298840936"
      ]
     },
     "execution_count": 18,
     "metadata": {},
     "output_type": "execute_result"
    }
   ],
   "source": [
    "df['Price Each'].std()  #Calculating the standard deviation of 'Price Each' column"
   ]
  },
  {
   "cell_type": "markdown",
   "id": "c80b1d4f-e105-40d5-9bdb-f0c3ec6004bd",
   "metadata": {},
   "source": [
    "### Skewness:"
   ]
  },
  {
   "cell_type": "code",
   "execution_count": 19,
   "id": "62a2182a-8140-4fba-962c-ee42e139f3bd",
   "metadata": {},
   "outputs": [
    {
     "data": {
      "text/plain": [
       "2.8721487292935257"
      ]
     },
     "execution_count": 19,
     "metadata": {},
     "output_type": "execute_result"
    }
   ],
   "source": [
    "df['Price Each'].skew()  #Calculating the skewness of 'Price Each' column"
   ]
  },
  {
   "cell_type": "markdown",
   "id": "3a4b0316-58d2-4a52-9803-449a54d7ec21",
   "metadata": {},
   "source": [
    "### Kurtosis:"
   ]
  },
  {
   "cell_type": "code",
   "execution_count": 20,
   "id": "9d737a6c-b332-4702-9f71-6d18b9f0157a",
   "metadata": {},
   "outputs": [
    {
     "data": {
      "text/plain": [
       "9.094568341148197"
      ]
     },
     "execution_count": 20,
     "metadata": {},
     "output_type": "execute_result"
    }
   ],
   "source": [
    "df['Price Each'].kurtosis()  #Calculating the Kurtosis of 'Price Each' column"
   ]
  },
  {
   "cell_type": "markdown",
   "id": "039ac7f6-0277-40bb-9255-ff61d020ea59",
   "metadata": {},
   "source": [
    "#"
   ]
  },
  {
   "cell_type": "markdown",
   "id": "5f632ee0-09c4-4618-87ff-604a89ccf4f1",
   "metadata": {},
   "source": [
    "## 2. Calculating and showing the correlation between all the variables."
   ]
  },
  {
   "cell_type": "code",
   "execution_count": 21,
   "id": "521777c7-9372-4c7b-a9d3-2e4bdaf27c3c",
   "metadata": {},
   "outputs": [
    {
     "data": {
      "text/html": [
       "<div>\n",
       "<style scoped>\n",
       "    .dataframe tbody tr th:only-of-type {\n",
       "        vertical-align: middle;\n",
       "    }\n",
       "\n",
       "    .dataframe tbody tr th {\n",
       "        vertical-align: top;\n",
       "    }\n",
       "\n",
       "    .dataframe thead th {\n",
       "        text-align: right;\n",
       "    }\n",
       "</style>\n",
       "<table border=\"1\" class=\"dataframe\">\n",
       "  <thead>\n",
       "    <tr style=\"text-align: right;\">\n",
       "      <th></th>\n",
       "      <th>Order ID</th>\n",
       "      <th>Quantity Ordered</th>\n",
       "      <th>Price Each</th>\n",
       "      <th>Month</th>\n",
       "    </tr>\n",
       "  </thead>\n",
       "  <tbody>\n",
       "    <tr>\n",
       "      <th>Order ID</th>\n",
       "      <td>1.000000</td>\n",
       "      <td>0.000702</td>\n",
       "      <td>-0.002857</td>\n",
       "      <td>0.993063</td>\n",
       "    </tr>\n",
       "    <tr>\n",
       "      <th>Quantity Ordered</th>\n",
       "      <td>0.000702</td>\n",
       "      <td>1.000000</td>\n",
       "      <td>-0.148272</td>\n",
       "      <td>0.000791</td>\n",
       "    </tr>\n",
       "    <tr>\n",
       "      <th>Price Each</th>\n",
       "      <td>-0.002857</td>\n",
       "      <td>-0.148272</td>\n",
       "      <td>1.000000</td>\n",
       "      <td>-0.003375</td>\n",
       "    </tr>\n",
       "    <tr>\n",
       "      <th>Month</th>\n",
       "      <td>0.993063</td>\n",
       "      <td>0.000791</td>\n",
       "      <td>-0.003375</td>\n",
       "      <td>1.000000</td>\n",
       "    </tr>\n",
       "  </tbody>\n",
       "</table>\n",
       "</div>"
      ],
      "text/plain": [
       "                  Order ID  Quantity Ordered  Price Each     Month\n",
       "Order ID          1.000000          0.000702   -0.002857  0.993063\n",
       "Quantity Ordered  0.000702          1.000000   -0.148272  0.000791\n",
       "Price Each       -0.002857         -0.148272    1.000000 -0.003375\n",
       "Month             0.993063          0.000791   -0.003375  1.000000"
      ]
     },
     "execution_count": 21,
     "metadata": {},
     "output_type": "execute_result"
    }
   ],
   "source": [
    "df.corr()  #Calculating the correlation of all the variables"
   ]
  },
  {
   "cell_type": "markdown",
   "id": "9027136b-764f-4c2e-8cc2-c6ff640013fd",
   "metadata": {},
   "source": [
    "#"
   ]
  },
  {
   "cell_type": "markdown",
   "id": "f7f9ecbd-e0cc-4f82-873c-3cd3b8822e61",
   "metadata": {},
   "source": [
    "# Data Exploration"
   ]
  },
  {
   "cell_type": "markdown",
   "id": "158b9c74-bc42-42c5-951c-0cd5ad268419",
   "metadata": {
    "tags": []
   },
   "source": [
    "## Which Month has the best sales? and how much was the earning in that month? Show with a bar graph."
   ]
  },
  {
   "cell_type": "code",
   "execution_count": 22,
   "id": "31ae41e2-e89e-4177-8330-b189b811dbf1",
   "metadata": {},
   "outputs": [],
   "source": [
    "df['Total Price'] = df['Quantity Ordered']*df['Price Each']  \n",
    "#Creating a new column 'Total Price' which calculates the product of 'Quantity Ordered' and 'Price Each' columns"
   ]
  },
  {
   "cell_type": "code",
   "execution_count": 23,
   "id": "d491f8df-5c20-4df8-8a42-98c449845955",
   "metadata": {},
   "outputs": [
    {
     "data": {
      "text/plain": [
       "12"
      ]
     },
     "execution_count": 23,
     "metadata": {},
     "output_type": "execute_result"
    }
   ],
   "source": [
    "monthly_sales = df.groupby(['Month'])['Total Price'].sum()\n",
    "best_sales_month = monthly_sales.idxmax()\n",
    "best_sales_month"
   ]
  },
  {
   "cell_type": "markdown",
   "id": "af2e0a6a-519d-44e6-a1fc-0fb608e74a8f",
   "metadata": {},
   "source": [
    "##### Ans. The 12th month has the best sales."
   ]
  },
  {
   "cell_type": "markdown",
   "id": "1fb5ce56-1a9c-4425-b19c-150ba5876429",
   "metadata": {},
   "source": [
    "######"
   ]
  },
  {
   "cell_type": "code",
   "execution_count": 24,
   "id": "c4688ae1-463d-43f0-99d6-9c6181a3c37e",
   "metadata": {},
   "outputs": [
    {
     "data": {
      "text/plain": [
       "4613443.34"
      ]
     },
     "execution_count": 24,
     "metadata": {},
     "output_type": "execute_result"
    }
   ],
   "source": [
    "monthly_sales.max()"
   ]
  },
  {
   "cell_type": "markdown",
   "id": "0d4e19e6-1f2b-4978-a783-2b1949bdad34",
   "metadata": {},
   "source": [
    "##### Ans. The total earnings in the 12th month was 4613443.34."
   ]
  },
  {
   "cell_type": "markdown",
   "id": "da009364-f72d-45b3-8782-e7b05b0e5bf0",
   "metadata": {},
   "source": [
    "######"
   ]
  },
  {
   "cell_type": "code",
   "execution_count": 25,
   "id": "e2a78153-db74-4822-908d-91a12d760341",
   "metadata": {},
   "outputs": [
    {
     "data": {
      "image/png": "[encoded data removed]",
      "text/plain": [
       "<Figure size 648x432 with 1 Axes>"
      ]
     },
     "metadata": {
      "needs_background": "light"
     },
     "output_type": "display_data"
    }
   ],
   "source": [
    "plt.figure(figsize=(9, 6))\n",
    "plt.bar(monthly_sales.index, monthly_sales.values)\n",
    "plt.xlabel('Month')\n",
    "plt.ylabel('Total Sales')\n",
    "plt.title('Monthly Sales Bar Graph')\n",
    "plt.xticks(np.arange(13))\n",
    "plt.ylim((1000000,5000000))\n",
    "plt.show()"
   ]
  },
  {
   "cell_type": "markdown",
   "id": "f70a3081-99ee-4922-a7f0-85d08ad882a7",
   "metadata": {},
   "source": [
    "#"
   ]
  },
  {
   "cell_type": "markdown",
   "id": "4267ccdd-055a-416d-ae4f-244109f4aa15",
   "metadata": {},
   "source": [
    "## Which city has sold the highest product?"
   ]
  },
  {
   "cell_type": "code",
   "execution_count": 26,
   "id": "de0ace26-fe59-48bf-aff0-608fbcc8316c",
   "metadata": {},
   "outputs": [
    {
     "data": {
      "text/plain": [
       "' San Francisco'"
      ]
     },
     "execution_count": 26,
     "metadata": {},
     "output_type": "execute_result"
    }
   ],
   "source": [
    "city_product_quantity = df.groupby(['City'])['Quantity Ordered'].sum()\n",
    "hightest_product_sold = city_product_quantity.idxmax()\n",
    "hightest_product_sold"
   ]
  },
  {
   "cell_type": "markdown",
   "id": "8087478d-004e-461f-a124-e84c70cd8d61",
   "metadata": {},
   "source": [
    "##### San Francisco sold the highest number of products."
   ]
  },
  {
   "cell_type": "markdown",
   "id": "5abd7e8d-a1b1-414d-8659-80ba0fcd2d4f",
   "metadata": {},
   "source": [
    "#"
   ]
  },
  {
   "cell_type": "markdown",
   "id": "191445fa-18db-441b-b35f-2c97b1d694d8",
   "metadata": {},
   "source": [
    "## Which product was sold the most in overall? Illustrate it through bar graph."
   ]
  },
  {
   "cell_type": "code",
   "execution_count": 27,
   "id": "d878150a-f279-4d38-8d68-a923cac985ec",
   "metadata": {},
   "outputs": [
    {
     "data": {
      "text/plain": [
       "'AAA Batteries (4-pack)'"
      ]
     },
     "execution_count": 27,
     "metadata": {},
     "output_type": "execute_result"
    }
   ],
   "source": [
    "product_ordered_quantity = df.groupby(['Product'])['Quantity Ordered'].sum()\n",
    "most_sold_product = product_ordered_quantity.idxmax()\n",
    "most_sold_product"
   ]
  },
  {
   "cell_type": "markdown",
   "id": "0675784b-852b-4180-a6c1-86f7c1f79b3d",
   "metadata": {},
   "source": [
    "##### Ans. AAA Batteries (4-pack) was sold the most in overall."
   ]
  },
  {
   "cell_type": "markdown",
   "id": "4da884f2-fc0d-4f37-ba3a-3f6e73219c01",
   "metadata": {},
   "source": [
    "######"
   ]
  },
  {
   "cell_type": "code",
   "execution_count": 28,
   "id": "879365f2-6462-4140-832a-04fce3558f3f",
   "metadata": {},
   "outputs": [
    {
     "data": {
      "image/png": "[encoded data removed]",
      "text/plain": [
       "<Figure size 648x432 with 1 Axes>"
      ]
     },
     "metadata": {
      "needs_background": "light"
     },
     "output_type": "display_data"
    }
   ],
   "source": [
    "plt.figure(figsize=(9, 6))\n",
    "plt.bar(product_ordered_quantity.index, product_ordered_quantity.values)\n",
    "plt.xlabel('Product')\n",
    "plt.ylabel('Sold Quantity')\n",
    "plt.title('Product Sold Quantity Bar Graph')\n",
    "plt.xticks(rotation = 90)\n",
    "plt.ylim((0,35000))\n",
    "plt.show()"
   ]
  },
  {
   "cell_type": "markdown",
   "id": "a45c53f0-5b4d-4e83-bc30-e8b8d7136b08",
   "metadata": {},
   "source": [
    "#"
   ]
  },
  {
   "cell_type": "markdown",
   "id": "4417f609-c95e-470a-a23e-0fa03ba66bf3",
   "metadata": {},
   "source": [
    "## Write a Python program to show histogram plot of any chosen variables. Use proper labels in the graph."
   ]
  },
  {
   "cell_type": "code",
   "execution_count": 30,
   "id": "fa8ad5c1-ac8c-4c3f-bf0d-27bf81e7f8a3",
   "metadata": {},
   "outputs": [
    {
     "data": {
      "image/png": "[encoded data removed]",
      "text/plain": [
       "<Figure size 864x648 with 1 Axes>"
      ]
     },
     "metadata": {
      "needs_background": "light"
     },
     "output_type": "display_data"
    }
   ],
   "source": [
    "plt.figure(figsize=(12, 9))\n",
    "plt.hist(df['Month'], bins=12, color='grey', edgecolor='black')\n",
    "plt.xlabel(\"Month\")\n",
    "plt.ylabel(\"Frequency\")\n",
    "plt.title(\"Month Histogram\")\n",
    "plt.ylim(0,30000)\n",
    "plt.xticks(np.arange(13))\n",
    "plt.show()"
   ]
  }
 ],
 "metadata": {
  "kernelspec": {
   "display_name": "Python 3 (ipykernel)",
   "language": "python",
   "name": "python3"
  },
  "language_info": {
   "codemirror_mode": {
    "name": "ipython",
    "version": 3
   },
   "file_extension": ".py",
   "mimetype": "text/x-python",
   "name": "python",
   "nbconvert_exporter": "python",
   "pygments_lexer": "ipython3",
   "version": "3.9.7"
  }
 },
 "nbformat": 4,
 "nbformat_minor": 5
}
